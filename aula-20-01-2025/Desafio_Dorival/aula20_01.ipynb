{
 "cells": [
  {
   "cell_type": "markdown",
   "id": "4c1d3d32",
   "metadata": {},
   "source": [
    "<h1>Big O Notation</h1>"
   ]
  },
  {
   "cell_type": "markdown",
   "id": "0f5b73d2",
   "metadata": {},
   "source": [
    "A Big O Notation (ou notação O grande) é uma forma de descrever o comportamento de um algoritmo, determinando assim se o Algoritmo é escalável ou não. Isso ajuda a determinar o comportamento do algoritmo no PIOR, no MÉDIO e no MELHOR dos cenários. \n",
    "\n",
    "De froma simples ajuda a reponder perguntas como: E se o número de entradas aumentar? Qual a melhor forma d elidar com esses algoritmos. \n"
   ]
  },
  {
   "cell_type": "markdown",
   "id": "3dfdde14",
   "metadata": {},
   "source": [
    "<h1>Exemplos de Big O Comum:</h1>\n",
    "\n",
    "```O(1)```: Complexidade constante. O tempo de execução não depende do tamanho da entrada.\n",
    "\n",
    "```O(log n)```: Complexidade logarítmica. O tempo de execução cresce lentamente à medida que o tamanho da entrada aumenta.\n",
    "\n",
    "```O(n)```: Complexidade linear. O tempo de execução cresce de forma proporcional ao tamanho da entrada.\n",
    "\n",
    "```O(n log n)```: Complexidade linear-logarítmica. Algoritmos eficientes de ordenação, como Merge Sort, possuem essa complexidade.\n",
    "\n",
    "```O(n²)```: Complexidade quadrática. Comum em algoritmos que envolvem dois loops aninhados, como Bubble Sort.\n",
    "\n",
    "```O(2^n)```: Complexidade exponencial. O tempo de execução dobra a cada aumento no tamanho da entrada.\n",
    "\n",
    "```O(n!)```: Complexidade fatorial. Comum em algoritmos que geram todas as permutações de um conjunto."
   ]
  },
  {
   "cell_type": "markdown",
   "id": "94ff252f",
   "metadata": {},
   "source": [
    "<h1>Complexidade de Algoritmos</h1>\n"
   ]
  },
  {
   "cell_type": "markdown",
   "id": "59b14ea9",
   "metadata": {},
   "source": [
    "Geralmente, o algoritmo tem desempenho diferente conforme o Hardware muda, podendo ser desde um muito fraco, até um com muita capacidade de processamento. A complexidade é usada para medir a velocidade do algoritmos nesses cenários, definindo assim o melhor tipo para ser rodado naquele cenário específico. \n",
    "\n",
    ">>>O algoritmo um agrupamento de etapas para se executar uma tarefa, o tempo que leva para um algoritmo ser executado é baseado no número de passos. "
   ]
  },
  {
   "cell_type": "markdown",
   "id": "43c0b3b6",
   "metadata": {},
   "source": [
    "Suponha que você tenha um array de números, e o objetivo é somar um valor fixo a cada elemento do array. O tempo necessário para atualizar cada elemento (a soma) é representado por t, ou seja, t é o tempo necessário para realizar uma operação de soma simples em um único elemento. ```Abaixo teremos um exemplo de um array, que soma um valor fixo a cada elemento dessa estrutura.``` "
   ]
  },
  {
   "cell_type": "code",
   "execution_count": 1,
   "id": "1f4e70c7",
   "metadata": {},
   "outputs": [
    {
     "name": "stdout",
     "output_type": "stream",
     "text": [
      "[11, 12, 13, 14, 15]\n"
     ]
    }
   ],
   "source": [
    "def somar_valor(array, valor):\n",
    "    for i in range(len(array)): \n",
    "        array[i] = array[i] + valor  \n",
    "array = [1, 2, 3, 4, 5]  \n",
    "valor = 10 \n",
    "somar_valor(array, valor)\n",
    "print(array) "
   ]
  },
  {
   "cell_type": "markdown",
   "id": "fefcad02",
   "metadata": {},
   "source": [
    "Se nesse exemplo acima, cuja o Array = 10 (n=10), ou seja, existem 10 elementos nesse array, e a operação de soma de cada elemento levar por exemplo 0.0001s, a complexidade será de ```O(10*0.0001) = 10 milisegundos. o(n*t).``` "
   ]
  },
  {
   "cell_type": "markdown",
   "id": "0c485805",
   "metadata": {},
   "source": [
    "Portanto, a análise da complexidade ajuda a quantificar o tempo de execução de cada operação individual, otimizando assim ao máximo aquele algoritmo para rodar em diferentes tipos de máquinas, com diferentes tipos de Hardware. \n"
   ]
  },
  {
   "cell_type": "markdown",
   "id": "89968a26",
   "metadata": {},
   "source": [
    "<h1>Merge Sort</h1>"
   ]
  },
  {
   "cell_type": "markdown",
   "id": "2ed9ccb8-811b-4e74-8b79-89d6b942c74a",
   "metadata": {},
   "source": [
    "O ```Merge Sort``` (ou Ordenação por Intercalação) é um algoritmo de ordenação eficiente que utiliza a técnica de dividir e conquistar. Para entendemros o porque de sua eficiencia, precisamos entender o motivo de ser reconhecido por sua perfomance. "
   ]
  },
  {
   "cell_type": "markdown",
   "id": "25a05967",
   "metadata": {},
   "source": [
    "O Merge Sort é um algoritmo de ordenação. Ele funciona dividindo repetidamente a lista em duas metades até que cada sublista tenha um único elemento, e então as sublistas são mescladas de forma ordenada. \n",
    "\n",
    ">>Passos do Merge Sort\n",
    "1. Divisão: A lista é dividida em duas metades. Cada metade é ordenada repetidamente.\n",
    "2. Mesclagem: Quando as sublistas já estão ordenadas, elas são combinadas de forma ordenada."
   ]
  },
  {
   "cell_type": "markdown",
   "id": "bb3b9438",
   "metadata": {},
   "source": [
    "<img src=\"https://media.geeksforgeeks.org/wp-content/uploads/20240221173657/Merge-Sort.jpg\">"
   ]
  },
  {
   "cell_type": "markdown",
   "id": "67971553",
   "metadata": {},
   "source": [
    "Acima esta um exemplo claro de como o Merge Sort funciona. \n",
    "\n",
    "A forma se dá da seguinte maneira: \n",
    "\n",
    "Array [38 27 43 10] é dividido em dois grupos \n",
    "\n",
    "\n",
    "[38 27] -> [38] -> [27] -> [27 38]                    \n",
    "[43 10] -> [43] -> [10] -> [10 43]\n",
    "[10 27 38 43] \n",
    "\n",
    "<h2>Passo 1: Divisão da lista</h2>\n",
    "\n",
    "A lista original [38, 27, 43, 10] é dividida ao meio em duas sublistas:\n",
    "[38, 27] e [43, 10]\n",
    "\n",
    "A primeira sublista [38, 27] é dividida em duas partes:\n",
    "[38] e [27] Agora, cada sublista contém apenas um elemento, então não é mais possível dividir. As sublistas precisam ser mescladas de volta em ordem crescente.\n",
    "\n",
    "A segunda sublista [43, 10] também é dividida:\n",
    "[43] e [10] Novamente, cada sublista tem apenas um elemento, então elas serão mescladas de volta.\n",
    "\n",
    "<h2>Passo 2: Mesclagem das sublistas</h2>\n",
    "\n",
    "Agora, as sublistas são combinadas de forma ordenada.\n",
    "\n",
    "Mesclando [38] e [27]:\n",
    "Comparamos os elementos: 38 e 27. O menor valor é 27, então a lista ordenada se torna [27, 38].\n",
    "\n",
    "Mesclando [43] e [10]:\n",
    "Comparamos os elementos: 43 e 10. O menor valor é 10, então a lista ordenada se torna [10, 43]."
   ]
  },
  {
   "cell_type": "markdown",
   "id": "1d799068",
   "metadata": {},
   "source": [
    "<h2>Passo 3: Mesclagem final</h2>\n",
    "\n",
    "Agora que as sublistas estão ordenadas, é hora de mesclá-las de volta.\n",
    "\n",
    "Mesclando [27, 38] e [10, 43]:\n",
    "Comparamos os primeiros elementos das duas sublistas: 27 e 10. O menor valor é 10.\n",
    "Em seguida, comparamos 27 e 43. O menor valor é 27.\n",
    "Depois, comparamos 38 e 43. O menor valor é 38.\n",
    "Por fim, o elemento restante 43 é adicionado à lista."
   ]
  },
  {
   "cell_type": "markdown",
   "id": "c232a555",
   "metadata": {},
   "source": [
    "A lista final ordenada é: [10, 27, 38, 43]."
   ]
  },
  {
   "cell_type": "markdown",
   "id": "d5c28d25",
   "metadata": {},
   "source": [
    "Ou seja, a complexida Merge Sort para resolver essa lista foi O(n log n) ou O(4 log 4) que se dá por log² 4 = 2 -> log = 4*2 = 8. Então para ordenamos está lista é necessário 8 operações.\n"
   ]
  },
  {
   "cell_type": "code",
   "execution_count": 2,
   "id": "741fc8e5",
   "metadata": {},
   "outputs": [
    {
     "name": "stdout",
     "output_type": "stream",
     "text": [
      "Lista ordenada: [10, 27, 38, 43]\n"
     ]
    }
   ],
   "source": [
    "def merge_sort(arr):\n",
    "    \"\"\"\n",
    "    Função que ordena uma lista usando o algoritmo Merge Sort.\n",
    "\n",
    "    O Merge Sort é um algoritmo de ordenação que usa a técnica de \"dividir e conquistar\". Ele divide a lista em duas metades, recursivamente ordena as duas metades e depois mescla as duas metades ordenadas.\n",
    "\n",
    "    Parâmetros:\n",
    "    arr (list): Lista de elementos que será ordenada.\n",
    "\n",
    "    Retorna:\n",
    "    list: A lista ordenada.\n",
    "    \n",
    "    Passo a passo:\n",
    "    1. Se a lista tiver 1 ou nenhum elemento, ela já está ordenada (caso base).\n",
    "    2. Divide a lista em duas metades.\n",
    "    3. Recursivamente ordena as duas metades.\n",
    "    4. Mescla as duas metades ordenadas em uma lista única e ordenada.\n",
    "    \"\"\"\n",
    "    if len(arr) <= 1:\n",
    "        return arr\n",
    "\n",
    "    mid = len(arr) // 2\n",
    "    left_half = arr[:mid]\n",
    "    right_half = arr[mid:]\n",
    "\n",
    "    left_half = merge_sort(left_half)\n",
    "    right_half = merge_sort(right_half)\n",
    "\n",
    "    return merge(left_half, right_half)\n",
    "\n",
    "def merge(left, right):\n",
    "    \"\"\"\n",
    "    Função que mescla duas listas ordenadas em uma única lista ordenada.\n",
    "\n",
    "    Parâmetros:\n",
    "    left (list): Primeira lista ordenada.\n",
    "    right (list): Segunda lista ordenada.\n",
    "\n",
    "    Retorna:\n",
    "    list: Lista ordenada resultante da mesclagem das duas listas de entrada.\n",
    "\n",
    "    Passo a passo:\n",
    "    1. Cria uma lista vazia para armazenar o resultado da mesclagem.\n",
    "    2. Compara os elementos das duas listas e adiciona o menor elemento à lista resultante.\n",
    "    3. Quando uma das listas for completamente processada, adiciona os elementos restantes da outra lista à lista resultante.\n",
    "    \"\"\"\n",
    "    sorted_list = []\n",
    "    i = j = 0\n",
    "\n",
    "    while i < len(left) and j < len(right):\n",
    "        if left[i] < right[j]:\n",
    "            sorted_list.append(left[i])\n",
    "            i += 1\n",
    "        else:\n",
    "            sorted_list.append(right[j])\n",
    "            j += 1\n",
    "\n",
    "    sorted_list.extend(left[i:])\n",
    "    sorted_list.extend(right[j:])\n",
    "\n",
    "    return sorted_list\n",
    "\n",
    "arr = [38, 27, 43, 10]\n",
    "sorted_arr = merge_sort(arr)\n",
    "\n",
    "print(\"Lista ordenada:\", sorted_arr)\n"
   ]
  },
  {
   "cell_type": "markdown",
   "id": "a74aa8d4",
   "metadata": {},
   "source": [
    "<h1>Bubble Sort</h1>\n",
    "\n",
    "Buble Sort é um algoritmo de notação simples que funciona trocando repetidamente os elementos se eles estiverem em ordem errada. Este algoritmo não é adequado para grandes conjuntos de dados, pois sua complexidade de tempo média e de pior caso são bem altas. Imagine que você tem uma sequência de números, como 5, 1, 9, 3, e deseja ordená-los em ordem crescente. O Buble sort pode ajudar nessa tarefa, reorganizando os números até que estejam na ordem correta."
   ]
  },
  {
   "cell_type": "code",
   "execution_count": 1,
   "id": "fc8a9811",
   "metadata": {},
   "outputs": [
    {
     "name": "stdout",
     "output_type": "stream",
     "text": [
      "Lista ordenada\n",
      "0123456"
     ]
    }
   ],
   "source": [
    "numero = [6, 3, 2, 1, 0, 4, 5]\n",
    "tamanho = len(numero)\n",
    "\n",
    "for i in range(tamanho -1):\n",
    "    for j in range(tamanho -1):\n",
    "        if numero[j] > numero[j+1]:\n",
    "            numero[j], numero[j+1] = numero[j+1], numero[j]\n",
    "print(\"Lista ordenada\")\n",
    "for i in range(tamanho):\n",
    "    print(numero[i], end=\"\")\n",
    "    \n",
    "#Code by GPT"
   ]
  },
  {
   "cell_type": "markdown",
   "id": "789aa12e",
   "metadata": {},
   "source": [
    "Primeiro, iniciaremos nossa lista que queremos ordenar:\n",
    "```numero = [6, 3, 2, 1, 0, 4, 5]```"
   ]
  },
  {
   "cell_type": "markdown",
   "id": "46d5fbd6",
   "metadata": {},
   "source": [
    "Depois iremos definir o tamanho da nossa lista usando ```tamanho = len(numeros)```"
   ]
  },
  {
   "cell_type": "markdown",
   "id": "1d3c360b",
   "metadata": {},
   "source": [
    "O loop externo executa tamanho - 1 vezes.\n",
    "```for i in range(tamanho - 1):```\n",
    " Cada iteração do loop externo faz com que o maior número \"buble\" (suba) para o final da lista."
   ]
  },
  {
   "cell_type": "markdown",
   "id": "34f4d8b8",
   "metadata": {},
   "source": [
    "O loop interno percorre a lista comparando elementos adjcenes e trocando-os se necessario. ```for j in range(tamanho - i - 1):``` Garantindo que a cada iteração o último elemento da comparação já estars ordenado, então não é necessário comprá-lo novamente."
   ]
  },
  {
   "cell_type": "markdown",
   "id": "acd77775",
   "metadata": {},
   "source": [
    "Se o elemento na posição ```j``` for maior que o elemento na posição ```j+1```, eles são trocados de lugar."
   ]
  },
  {
   "cell_type": "markdown",
   "id": "0084cb91",
   "metadata": {},
   "source": [
    "O funcionamento do Bubbl sort é baseado na comparação dos elementos da lista e na troca de posição dos mesmos quando necessário para atingir a ordenação pretendida. Ele atua localmente, ou seja, pode alterar a prpria lista de entrada. Vale mencionar que o Bubble é de complexidade O(n²), o que em melhor e médio caso garante a lista ordenada, e em pior caso garante a lista ordenada de fora invera, necessiando ordenar elementos várias vezes até tudo estar ordenado \n",
    "\n",
    "```Passo a passo do algoritmo```\n",
    "Percorra a lia da esquerda para a direita.\n",
    "Compare cad elemto com o elemento adjacente à sua direita.\n",
    "Se o elemento à esquerda for maior que o elemento à direita, troque-os de posição.\n",
    "Repita os passos 1a 3 até que a lista esteja ordenada."
   ]
  },
  {
   "cell_type": "markdown",
   "id": "b057d8c3",
   "metadata": {},
   "source": [
    "<img src=\"https://media.geeksforgeeks.org/wp-content/uploads/20240925153535/bubble-sort-1.webp\">"
   ]
  },
  {
   "cell_type": "markdown",
   "id": "79177972",
   "metadata": {},
   "source": [
    "Passo 1: Troca o menor valor de posição, comparando 1 e 6, trocando a posição do 1 pela do 6. Logo em seguida, compara a posição do 3 com a do 6, jogando o 6 para o final da lista. "
   ]
  },
  {
   "cell_type": "markdown",
   "id": "9d472651",
   "metadata": {},
   "source": [
    "<img src=\"https://media.geeksforgeeks.org/wp-content/uploads/20240925153536/bubble-sort-2.webp\">"
   ]
  },
  {
   "cell_type": "markdown",
   "id": "bff79e14",
   "metadata": {},
   "source": [
    "Passo 2: Compara a posição do menor valor (1) com a do maior valor mais proximo (5), e o troca de posição, deixando assim o 1 com a posição 0 no index. Logo após, compara o 5 com o 3, trocando de posiçao."
   ]
  },
  {
   "cell_type": "markdown",
   "id": "245da930",
   "metadata": {},
   "source": [
    "<img src=\"https://media.geeksforgeeks.org/wp-content/uploads/20240925153536/bubble-sort-3.webp\">"
   ]
  },
  {
   "cell_type": "markdown",
   "id": "389b8316",
   "metadata": {},
   "source": [
    "Passo 3: Após fazer a troca com o 5, compara o 3 com o 1, identifica que tudo está ordenado e encerra o processo. "
   ]
  },
  {
   "cell_type": "markdown",
   "id": "4903388f",
   "metadata": {},
   "source": [
    "Acima, um exemplo prático de como funciona o Bubble Sort, onde o Algoritmo começa comparando os dois primeiros elementos, onde se o primeiro for maior que o segundo, eles são trocados. Esse processo de comparação continua até tudo estar ordenado, onde a cada passagem, o maior elemento sobe para o final, e o menor desce para o começo até que tudo esteja ordenado."
   ]
  },
  {
   "cell_type": "markdown",
   "id": "565253b7",
   "metadata": {},
   "source": [
    "<h1>Insert Sort</h1>"
   ]
  },
  {
   "cell_type": "markdown",
   "id": "fe152d53",
   "metadata": {},
   "source": [
    "O Insertion Sort tem como rotina base a inserção ordenada. A ideia é executar várias vezes essa rotina para ordenar um array. O Insertion Sort é um algoritmo de ordenação simples que funciona construindo iterativamente um subarray ordenado dentro do array não ordenado. É como se você estivesse ordenando um conjunto de cartas de baralho na mão."
   ]
  },
  {
   "cell_type": "markdown",
   "id": "689ff0f7",
   "metadata": {},
   "source": [
    ">>Como funciona\n",
    "1. O primeiro elemento é considerado ordenado por padrão.\n",
    "2. O algoritmo então percorre a lista a partir do segundo elemento.\n",
    "3. Para cada elemento da lista, o algoritmo compara-o com os elementos do subarray ordenado.\n",
    "4. Se o elemento for menor que qualquer um dos elementos do subarray ordenado, o algoritmo o insere na posição correta no subarray ordenado.\n",
    "5. O algoritmo repete os passos 2 a 4 até que todos os elementos da lista tenham sido processados.\n",
    "\n",
    "Usando uma alegoria de baralho, o insertion Sort, seria como se tivessemos 7 cartas de um baralho em nossa mão esquerda, de forma não ordenada. Então para ordenamos, teriamos que trocar de mão, sendo a primeira carta referencia para as outras, e ordenando do menor para o maior. "
   ]
  },
  {
   "cell_type": "markdown",
   "id": "f25cb4ac",
   "metadata": {},
   "source": [
    "<img src=\"https://media.geeksforgeeks.org/wp-content/uploads/20240802210251/Insertion-sorting.png\">"
   ]
  },
  {
   "cell_type": "markdown",
   "id": "236fba34",
   "metadata": {},
   "source": [
    "Para ficar mais claro, usaremos o exemplo a seguir em python."
   ]
  },
  {
   "cell_type": "code",
   "execution_count": 6,
   "id": "40656825",
   "metadata": {},
   "outputs": [
    {
     "name": "stdout",
     "output_type": "stream",
     "text": [
      "Lista ordenada:\n",
      "[1, 3, 4, 5, 9]\n"
     ]
    }
   ],
   "source": [
    "def insertionSort(array):\n",
    "    for step in range(1, len(array)):\n",
    "        key = array[step]\n",
    "        j = step - 1\n",
    "\n",
    "        while j >= 0 and key < array[j]:\n",
    "            array[j + 1] = array[j]\n",
    "            j = j - 1\n",
    "        array[j + 1] = key\n",
    "\n",
    "data = [9, 5, 1, 4, 3]\n",
    "insertionSort(data)\n",
    "print('Lista ordenada:')\n",
    "print(data)"
   ]
  },
  {
   "cell_type": "markdown",
   "id": "2d96c5ae",
   "metadata": {},
   "source": [
    "Laço ```for``` para percorrer o array: O laço for começa no índice 1 (o segundo elemento) e vai até o último índice da lista. \n"
   ]
  },
  {
   "cell_type": "markdown",
   "id": "c34877b5",
   "metadata": {},
   "source": [
    "A variável key armazena o valor do elemento atual do array"
   ]
  },
  {
   "cell_type": "markdown",
   "id": "029ce397",
   "metadata": {},
   "source": [
    "A variável j é o índice do último elemento da sublista já ordenada. Inicialmente, j é o índice imediatamente anterior ao step."
   ]
  },
  {
   "cell_type": "markdown",
   "id": "f5e086a7",
   "metadata": {},
   "source": [
    "O laço while verifica se j é maior ou igual a 0 (garantindo que estamos dentro dos limites do array) e se o valor da chave key é menor que o valor do elemento no índice j. "
   ]
  },
  {
   "cell_type": "markdown",
   "id": "f8a50791",
   "metadata": {},
   "source": [
    "Se a condição do while for verdadeira, o valor de ```array[j]``` é movido uma posição à direita."
   ]
  },
  {
   "cell_type": "markdown",
   "id": "083bbfc5",
   "metadata": {},
   "source": [
    "Após mover o elemento, j é decrementado para comparar o próximo elemento à esquerda de j."
   ]
  },
  {
   "cell_type": "markdown",
   "id": "67ec8c59",
   "metadata": {},
   "source": [
    "Quando o laço ```while``` termina (o elemento correto de key é encontrado ou o início da lista é alcançado), a chave key é colocada na posição correta, que é ```j + 1.```"
   ]
  },
  {
   "cell_type": "markdown",
   "id": "274d1efe",
   "metadata": {},
   "source": [
    "<h1>Busca Binária</h1>"
   ]
  },
  {
   "cell_type": "markdown",
   "id": "f0d639f0",
   "metadata": {},
   "source": [
    "A busca binária é um algoritmo eficiente para enconstrar itens em uma lista ordenada de itens. Ela funciona quase que da mesma forma que o Merge Sort, dividindo para conquistar.  Um dos modos mais ultilizados é usar a busca binária para achar um item em um Array. "
   ]
  },
  {
   "cell_type": "markdown",
   "id": "eb4a99f4",
   "metadata": {},
   "source": [
    "A busca binária começa com dois ponteiros: um apontando para o primeiro elemento (low), e o outro para o último elemento da lista (high).\n",
    "\n",
    "O algoritmo calcula o índice do meio da lista, que é dado pela fórmula:\n",
    "\n",
    "mid =\n",
    "low\n",
    "+\n",
    "high\n",
    "2\n",
    "mid= \n",
    "2\n",
    "low+high\n",
    "​\n",
    " \n",
    "Onde low é o índice do primeiro elemento e high é o índice do último elemento.\n",
    "\n",
    "Comparação:\n",
    "\n",
    "Se o valor buscado for igual ao valor no meio: O algoritmo encontra o elemento e termina a busca.\n",
    "Se o valor buscado for menor que o valor no meio: O novo intervalo de busca será a metade esquerda da lista. Ou seja, o valor high é ajustado para mid - 1.\n",
    "Se o valor buscado for maior que o valor no meio: O novo intervalo de busca será a metade direita da lista. Ou seja, o valor low é ajustado para mid + 1.\n",
    "Repetir: Esse processo de calcular o meio, comparar, e ajustar os ponteiros continua enquanto low for menor ou igual a high. Cada iteração reduz pela metade o intervalo de busca.\n",
    "\n",
    "Elemento não encontrado: Se, ao final do processo, o ponteiro low se tornar maior que high, significa que o elemento não está na lista. Vale mencionar que a busca binária é do tipo O(log n), que é muito mais eficiente que a linear."
   ]
  },
  {
   "cell_type": "markdown",
   "id": "79549c95",
   "metadata": {},
   "source": [
    "<img src=\"https://blog.pantuza.com/uploads/ef77687b102d26cc5f25cc7e6a267e218621d075\">"
   ]
  },
  {
   "cell_type": "code",
   "execution_count": 1,
   "id": "86b944a3",
   "metadata": {},
   "outputs": [
    {
     "name": "stdout",
     "output_type": "stream",
     "text": [
      "Elemento 7 encontrado no índice 3\n"
     ]
    }
   ],
   "source": [
    "def busca_binaria(arr, x):\n",
    "    low = 0\n",
    "    high = len(arr) - 1\n",
    "    \n",
    "    while low <= high:\n",
    "        mid = (low + high) // 2\n",
    "        if arr[mid] == x:\n",
    "            return mid \n",
    "        elif arr[mid] < x:\n",
    "            low = mid + 1 \n",
    "        else:\n",
    "            high = mid - 1\n",
    "    return -1 \n",
    "arr = [1, 3, 5, 7, 9, 11, 13, 15, 17, 19]\n",
    "x = 7\n",
    "resultado = busca_binaria(arr, x)\n",
    "if resultado != -1:\n",
    "    print(f\"Elemento {x} encontrado no índice {resultado}\")\n",
    "else:\n",
    "    print(f\"Elemento {x} não encontrado\")\n"
   ]
  },
  {
   "cell_type": "markdown",
   "id": "e167b706",
   "metadata": {},
   "source": [
    "<h1>Busca Linear</h1>"
   ]
  },
  {
   "cell_type": "markdown",
   "id": "ac743545",
   "metadata": {},
   "source": [
    "A busca linear é um algoritmo simples para encontrar um elemento em uma lista não ordenada. O algoritmo percorre a lista de forma sequencial, verificando cada elemento até encontrar o valor desejado ou até terminar de percorrer a lista inteira.\n",
    "\n",
    "1. O algoritmo começa no primeiro elemento da lista.\n",
    "2. Compara o elemento atual com o valor que estamos procurando.\n",
    "3. Se o valor for encontrado, o algoritmo retorna o índice desse valor.\n",
    "4. Se o valor não for encontrado, o algoritmo passa para o próximo elemento e repete o processo.\n",
    "5. Se o final da lista for alcançado e o valor não for encontrado, o algoritmo retorna não encontrado (geralmente com valor -1 ou None).\n",
    "\n",
    "E vale mencionar, que é do tipo O(n), onde n é o número de elementos da lista e o pior cenário ocorre quando o número está o final da lista, ou não está presente."
   ]
  },
  {
   "cell_type": "markdown",
   "id": "0dd5d6f2",
   "metadata": {},
   "source": [
    "<img src=\"https://media.datacamp.com/cms/google/ad_4nxfbdx77glgjvfjafoghu6ti-5t69fjge3mimcglhn4ufiokp_qotsqqswv7x0ry-deoxu5l_wskpctre1a4ci4mcq12si3wy-uf_wcr5mu_kgftvuklyatdslw1sxi7mdqza3jz3spkrfe2cbpvxkynarcn.png\">"
   ]
  },
  {
   "cell_type": "code",
   "execution_count": 2,
   "id": "cb2b64b4",
   "metadata": {},
   "outputs": [
    {
     "name": "stdout",
     "output_type": "stream",
     "text": [
      "Target 91 found at index 23\n"
     ]
    }
   ],
   "source": [
    "numbers = [12, 7, 19, 3, 15, 25, 8, 10, 42, 56, 77, 23, 89, 65, 33, 99, 14, 2, 37, 81,\n",
    "           48, 64, 22, 91, 6, 40, 59, 87, 28, 53, 74, 9, 16, 39, 71, 93, 54, 32, 61, 27,\n",
    "           35, 18, 49, 68, 83, 46, 57, 29, 95, 11, 26, 44, 78, 5, 66, 73, 41, 85, 31, 50,\n",
    "           20, 63, 88, 34, 90, 60, 67, 4, 52, 36, 62, 80, 21, 84, 98, 13, 45, 69, 30, 38,\n",
    "           47, 17, 92, 55, 70, 76, 82, 24, 43, 1, 100, 58, 96, 75, 97, 94, 86, 72, 51, 79]\n",
    "def linear_search_iterative(arr, target):\n",
    "    for i in range(len(arr)):\n",
    "        if arr[i] == target:\n",
    "            return i \n",
    "    return -1  \n",
    "target = 91\n",
    "index = linear_search_iterative(numbers, target)\n",
    "\n",
    "if index != -1:\n",
    "    print(f\"Target {target} found at index {index}\")\n",
    "else:\n",
    "    print(f\"Target {target} not found!\")\n",
    "\n",
    "#Code by: https://www.datacamp.com/pt/tutorial/linear-search-python"
   ]
  },
  {
   "cell_type": "markdown",
   "id": "74b0dee6",
   "metadata": {},
   "source": [
    "Fontes:\n",
    ">>Merge Sort\n",
    "1. https://pt.quora.com/O-que-significa-O-1-e-O-n-em-programa%C3%A7%C3%A3o\n",
    "2. https://guilherme-rmendes95.medium.com/algoritmos-merge-sort-ef12dadeba2a\n",
    "3. https://www.geeksforgeeks.org/time-and-space-complexity-analysis-of-merge-sort/\n",
    "4. https://www-quora-com.translate.goog/What%E2%80%99s-the-simple-explanation-for-O-n-log-n?_x_tr_sl=en&_x_tr_tl=pt&_x_tr_hl=pt&_x_tr_pto=tc\n",
    "5. https://www.iugu.com/blog/analise-complexidade-algoritmos\n",
    "\n",
    ">>Bubble Sort\n",
    "1. https://elemarjr.com/clube-de-estudos/artigos/o-que-e-e-como-funciona-o-bubblesort/\n",
    "2. https://medium.com/linkapi-solutions/o-que-%C3%A9-big-o-notation-32f171e4a045\n",
    "3. https://www.geeksforgeeks.org/bubble-sort-algorithm/\n",
    "4. https://www.programiz.com/dsa/bubble-sort\n",
    "5. https://joaoarthurbm.github.io/eda/posts/insertion-sort/\n",
    "6. https://stackoverflow.com/questions/17270628/insertion-sort-vs-bubble-sort-algorithms\n",
    "7. ChatGPT, PROMPT: ```Me explique sobre Bubble Sort, sua complexidade e diferença entre Insert Sort.```\n",
    "\n",
    ">>Insert Sort\n",
    "\n",
    "1. https://www.youtube.com/watch?v=JU767SDMDvA\n",
    "2. https://github.com/msambol/dsa/blob/master/sort/insertion_sort.py\n",
    "3. https://www.dio.me/articles/insertion-sort-estrutura-de-dados\n",
    "4. https://github.com/vivikamizono/InsertionSort/blob/main/codeInsertionSort\n",
    "5. https://realpython.com/sorting-algorithms-python/\n",
    "6. https://www.geeksforgeeks.org/insertion-sort-algorithm/\n",
    "7. https://www.programiz.com/dsa/insertion-sort\n",
    "\n",
    ">>Binary Search \n",
    "\n",
    "1. https://www.programiz.com/dsa/binary-search#:~:text=Binary%20Search%20is%20a%20searching,need%20to%20sort%20them%20first.\n",
    "2. https://www.geeksforgeeks.org/binary-search/\n",
    "3. https://www.dio.me/articles/o-poder-da-busca-binaria\n",
    "\n",
    ">>Linear Binary \n",
    "\n",
    "1. https://www.geeksforgeeks.org/linear-search-vs-binary-search/\n",
    "2. https://carlacastanho.github.io/Material-de-APC/aulas/aula7.html\n",
    "3. https://www.datacamp.com/pt/tutorial/linear-search-python\n",
    "4. https://www.shiksha.com/online-courses/articles/difference-between-linear-search-and-binary-search/"
   ]
  }
 ],
 "metadata": {
  "kernelspec": {
   "display_name": "Python 3",
   "language": "python",
   "name": "python3"
  },
  "language_info": {
   "codemirror_mode": {
    "name": "ipython",
    "version": 3
   },
   "file_extension": ".py",
   "mimetype": "text/x-python",
   "name": "python",
   "nbconvert_exporter": "python",
   "pygments_lexer": "ipython3",
   "version": "3.11.5"
  }
 },
 "nbformat": 4,
 "nbformat_minor": 5
}
