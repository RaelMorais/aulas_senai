{
 "cells": [
  {
   "cell_type": "markdown",
   "id": "08f2336c-a2eb-425b-ba99-6d33f53a5961",
   "metadata": {},
   "source": [
    "<h1>Merge Sort</h1>"
   ]
  },
  {
   "cell_type": "markdown",
   "id": "2ed9ccb8-811b-4e74-8b79-89d6b942c74a",
   "metadata": {},
   "source": [
    "O ```Merge Sort``` (ou Ordenação por Intercalação) é um algoritmo de ordenação eficiente que utiliza a técnica de dividir e conquistar. Para entendemros o porque de sua eficiencia, precisamos entender o motivo de ser grandemente usado. "
   ]
  },
  {
   "cell_type": "markdown",
   "id": "94ff252f",
   "metadata": {},
   "source": [
    "<h1>Complexidade de Algoritmos</h1>\n"
   ]
  },
  {
   "cell_type": "markdown",
   "id": "59b14ea9",
   "metadata": {},
   "source": [
    "Normalmente, o algoritmo tem um desempenho diferente com base no processador, disco, memória e outros parâmetros de hardware. A complexidade é usada para medir a velocidade de um algoritmo. Sendo o algoritmo um agrupamento de etapas para se executar uma tarefa, o tempo que leva para um algoritmo ser executado é baseado no número de passos. "
   ]
  },
  {
   "cell_type": "markdown",
   "id": "43c0b3b6",
   "metadata": {},
   "source": [
    "Suponha que você tenha um array de números, e o objetivo é somar um valor fixo a cada elemento do array. O tempo necessário para atualizar cada elemento (a soma) é representado por t, ou seja, t é o tempo necessário para realizar uma operação de soma simples em um único elemento. ```Abaixo teremos um exemplo de um array, que soma um valor fixo a cada elemento dessa estrutura.``` "
   ]
  },
  {
   "cell_type": "code",
   "execution_count": null,
   "id": "1f4e70c7",
   "metadata": {
    "vscode": {
     "languageId": "plaintext"
    }
   },
   "outputs": [],
   "source": [
    "def somar_valor(array, valor):\n",
    "    for i in range(len(array)): \n",
    "        array[i] = array[i] + valor  \n",
    "array = [1, 2, 3, 4, 5]  \n",
    "valor = 10 \n",
    "somar_valor(array, valor)\n",
    "print(array) "
   ]
  },
  {
   "cell_type": "markdown",
   "id": "687412fc",
   "metadata": {},
   "source": [
    "A complexidade de algoritmos é uma medida que descreve o desempenho de um algoritmo em termos de tempo e/ou espaço à medida que o tamanho da entrada cresce.Ela ajuda a avaliar quão eficiente é um algoritmo e, com isso, a determinar se ele será viável para resolver problemas de grande escala. Existem dois tipos principais de complexidade: complexidade de tempo e complexidade de espaço."
   ]
  }
 ],
 "metadata": {
  "kernelspec": {
   "display_name": "Python 3 (ipykernel)",
   "language": "python",
   "name": "python3"
  },
  "language_info": {
   "codemirror_mode": {
    "name": "ipython",
    "version": 3
   },
   "file_extension": ".py",
   "mimetype": "text/x-python",
   "name": "python",
   "nbconvert_exporter": "python",
   "pygments_lexer": "ipython3",
   "version": "3.13.1"
  }
 },
 "nbformat": 4,
 "nbformat_minor": 5
}
