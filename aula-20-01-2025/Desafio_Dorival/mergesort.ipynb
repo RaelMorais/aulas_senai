{
 "cells": [
  {
   "cell_type": "markdown",
   "id": "08f2336c-a2eb-425b-ba99-6d33f53a5961",
   "metadata": {},
   "source": [
    "<h1>Merge Sort</h1>"
   ]
  },
  {
   "cell_type": "markdown",
   "id": "2ed9ccb8-811b-4e74-8b79-89d6b942c74a",
   "metadata": {},
   "source": [
    "O ```Merge Sort``` (ou Ordenação por Intercalação) é um algoritmo de ordenação eficiente que utiliza a técnica de dividir e conquistar. Para entendemros o porque de sua eficiencia, precisamos entender o motivo de ser grandemente usado. "
   ]
  },
  {
   "cell_type": "markdown",
   "id": "94ff252f",
   "metadata": {},
   "source": [
    "<h1>Complexidade de Algoritmos</h1>\n"
   ]
  },
  {
   "cell_type": "markdown",
   "id": "59b14ea9",
   "metadata": {},
   "source": [
    "Normalmente, o algoritmo tem um desempenho diferente com base no processador, disco, memória e outros parâmetros de hardware. A complexidade é usada para medir a velocidade de um algoritmo. Sendo o algoritmo um agrupamento de etapas para se executar uma tarefa, o tempo que leva para um algoritmo ser executado é baseado no número de passos. "
   ]
  },
  {
   "cell_type": "markdown",
   "id": "43c0b3b6",
   "metadata": {},
   "source": [
    "Suponha que você tenha um array de números, e o objetivo é somar um valor fixo a cada elemento do array. O tempo necessário para atualizar cada elemento (a soma) é representado por t, ou seja, t é o tempo necessário para realizar uma operação de soma simples em um único elemento. ```Abaixo teremos um exemplo de um array, que soma um valor fixo a cada elemento dessa estrutura.``` "
   ]
  },
  {
   "cell_type": "code",
   "execution_count": 1,
   "id": "1f4e70c7",
   "metadata": {},
   "outputs": [
    {
     "name": "stdout",
     "output_type": "stream",
     "text": [
      "[11, 12, 13, 14, 15]\n"
     ]
    }
   ],
   "source": [
    "def somar_valor(array, valor):\n",
    "    for i in range(len(array)): \n",
    "        array[i] = array[i] + valor  \n",
    "array = [1, 2, 3, 4, 5]  \n",
    "valor = 10 \n",
    "somar_valor(array, valor)\n",
    "print(array) "
   ]
  },
  {
   "cell_type": "markdown",
   "id": "fefcad02",
   "metadata": {},
   "source": [
    "Se nesse exemplo acima, cuja o Array = 10 (n=10), ou seja, existem 10 elementos nesse array, e a operação de soma de cada elemento levar por exemplo 0.0001s, a complexidade será de ```O(10*0.0001) = 10 milisegundos. o(n*t).``` "
   ]
  },
  {
   "cell_type": "markdown",
   "id": "0c485805",
   "metadata": {},
   "source": [
    "Portanto, a análise da complexidade ajuda a entender como o tempo de execução cresce à medida que o tamanho do array aumenta, e o valor t ajuda a quantificar o tempo de execução de cada operação individual. Cada computador pode ser muito diferente: o tempo varia de acordo com o hardware, a linguagem utilizada e o sistema operacional, então usamos notações para entendemros a complexidade de algoritmos, otimizando tempo e uma melhor escalabilidade."
   ]
  },
  {
   "cell_type": "markdown",
   "id": "687412fc",
   "metadata": {},
   "source": [
    "A complexidade de algoritmos é uma medida que descreve o desempenho de um algoritmo em termos de tempo e/ou espaço à medida que o tamanho da entrada cresce.Ela ajuda a avaliar quão eficiente é um algoritmo e, com isso, a determinar se ele será viável para resolver problemas de grande escala. Existem dois tipos principais de complexidade: complexidade de tempo e complexidade de espaço."
   ]
  },
  {
   "cell_type": "markdown",
   "id": "89968a26",
   "metadata": {},
   "source": [
    "<h1>Merge Sort</h1>"
   ]
  },
  {
   "cell_type": "markdown",
   "id": "25a05967",
   "metadata": {},
   "source": [
    "O Merge Sort é um algoritmo de ordenação baseado na técnica dividir e conquistar. Ele funciona dividindo repetidamente a lista em duas metades até que cada sublista tenha um único elemento, e então as sublistas são mescladas de forma ordenada. Este processo é repetido até que a lista inteira seja ordenada.\n",
    ">>Passos do Merge Sort\n",
    "1. Divisão: A lista é dividida em duas metades. Cada metade é ordenada recursivamente.\n",
    "2. Mesclagem: Quando as sublistas já estão ordenadas, elas são combinadas de forma ordenada, criando uma lista final ordenada."
   ]
  },
  {
   "cell_type": "markdown",
   "id": "bb3b9438",
   "metadata": {},
   "source": [
    "<img src=\"https://media.geeksforgeeks.org/wp-content/uploads/20240221173657/Merge-Sort.jpg\">"
   ]
  },
  {
   "cell_type": "markdown",
   "id": "67971553",
   "metadata": {},
   "source": [
    "Acima esta um exemplo claro de como o Merge Sort funciona. A forma se dá da seguinte maneira: \n",
    "Array [38 27 43 10] é dividido em dois grupos \n",
    "\n",
    "\n",
    "[38 27] -> [38] -> [27] -> [27 38]                    \n",
    "[43 10] -> [43] -> [10] -> [10 43]\n",
    "[10 27 38 43] \n",
    "\n",
    "<h1>Passo a passo </h1>\n",
    "<h2>Passo 1: Divisão da lista</h2>\n",
    "\n",
    "A lista original [38, 27, 43, 10] é dividida ao meio em duas sublistas:\n",
    "[38, 27] e [43, 10]\n",
    "\n",
    "A primeira sublista [38, 27] é dividida em duas partes:\n",
    "[38] e [27] Agora, cada sublista contém apenas um elemento, então não é mais possível dividir. As sublistas precisam ser mescladas de volta em ordem crescente.\n",
    "\n",
    "A segunda sublista [43, 10] também é dividida:\n",
    "[43] e [10] Novamente, cada sublista tem apenas um elemento, então elas serão mescladas de volta.\n",
    "\n",
    "<h2>Passo 2: Mesclagem das sublistas</h2>\n",
    "\n",
    "Agora, as sublistas são combinadas de forma ordenada.\n",
    "\n",
    "Mesclando [38] e [27]:\n",
    "Comparamos os elementos: 38 e 27. O menor valor é 27, então a lista ordenada se torna [27, 38].\n",
    "\n",
    "Mesclando [43] e [10]:\n",
    "Comparamos os elementos: 43 e 10. O menor valor é 10, então a lista ordenada se torna [10, 43]."
   ]
  },
  {
   "cell_type": "markdown",
   "id": "1d799068",
   "metadata": {},
   "source": [
    "<h2>Passo 3: Mesclagem final</h2>\n",
    "\n",
    "Agora que as sublistas estão ordenadas, é hora de mesclá-las de volta.\n",
    "\n",
    "Mesclando [27, 38] e [10, 43]:\n",
    "Comparamos os primeiros elementos das duas sublistas: 27 e 10. O menor valor é 10.\n",
    "Em seguida, comparamos 27 e 43. O menor valor é 27.\n",
    "Depois, comparamos 38 e 43. O menor valor é 38.\n",
    "Por fim, o elemento restante 43 é adicionado à lista."
   ]
  },
  {
   "cell_type": "markdown",
   "id": "c232a555",
   "metadata": {},
   "source": [
    "A lista final ordenada é: [10, 27, 38, 43]."
   ]
  },
  {
   "cell_type": "markdown",
   "id": "d5c28d25",
   "metadata": {},
   "source": [
    "Ou seja, a complexida Merge Sort para resolver essa lista foi O(n log n) ou O(4 log 4) que se dá por log² 4 = 2 -> log = 4*2 = 8. Então para ordenamos está lista é necessário 8 operações.\n"
   ]
  },
  {
   "cell_type": "code",
   "execution_count": 2,
   "id": "741fc8e5",
   "metadata": {},
   "outputs": [
    {
     "name": "stdout",
     "output_type": "stream",
     "text": [
      "Lista ordenada: [10, 27, 38, 43]\n"
     ]
    }
   ],
   "source": [
    "def merge_sort(arr):\n",
    "    \"\"\"\n",
    "    Função que ordena uma lista usando o algoritmo Merge Sort.\n",
    "\n",
    "    O Merge Sort é um algoritmo de ordenação que usa a técnica de \"dividir e conquistar\". Ele divide a lista em duas metades, recursivamente ordena as duas metades e depois mescla as duas metades ordenadas.\n",
    "\n",
    "    Parâmetros:\n",
    "    arr (list): Lista de elementos que será ordenada.\n",
    "\n",
    "    Retorna:\n",
    "    list: A lista ordenada.\n",
    "    \n",
    "    Passo a passo:\n",
    "    1. Se a lista tiver 1 ou nenhum elemento, ela já está ordenada (caso base).\n",
    "    2. Divide a lista em duas metades.\n",
    "    3. Recursivamente ordena as duas metades.\n",
    "    4. Mescla as duas metades ordenadas em uma lista única e ordenada.\n",
    "    \"\"\"\n",
    "    if len(arr) <= 1:\n",
    "        return arr\n",
    "\n",
    "    mid = len(arr) // 2\n",
    "    left_half = arr[:mid]\n",
    "    right_half = arr[mid:]\n",
    "\n",
    "    left_half = merge_sort(left_half)\n",
    "    right_half = merge_sort(right_half)\n",
    "\n",
    "    return merge(left_half, right_half)\n",
    "\n",
    "def merge(left, right):\n",
    "    \"\"\"\n",
    "    Função que mescla duas listas ordenadas em uma única lista ordenada.\n",
    "\n",
    "    Parâmetros:\n",
    "    left (list): Primeira lista ordenada.\n",
    "    right (list): Segunda lista ordenada.\n",
    "\n",
    "    Retorna:\n",
    "    list: Lista ordenada resultante da mesclagem das duas listas de entrada.\n",
    "\n",
    "    Passo a passo:\n",
    "    1. Cria uma lista vazia para armazenar o resultado da mesclagem.\n",
    "    2. Compara os elementos das duas listas e adiciona o menor elemento à lista resultante.\n",
    "    3. Quando uma das listas for completamente processada, adiciona os elementos restantes da outra lista à lista resultante.\n",
    "    \"\"\"\n",
    "    sorted_list = []\n",
    "    i = j = 0\n",
    "\n",
    "    while i < len(left) and j < len(right):\n",
    "        if left[i] < right[j]:\n",
    "            sorted_list.append(left[i])\n",
    "            i += 1\n",
    "        else:\n",
    "            sorted_list.append(right[j])\n",
    "            j += 1\n",
    "\n",
    "    sorted_list.extend(left[i:])\n",
    "    sorted_list.extend(right[j:])\n",
    "\n",
    "    return sorted_list\n",
    "\n",
    "arr = [38, 27, 43, 10]\n",
    "sorted_arr = merge_sort(arr)\n",
    "\n",
    "print(\"Lista ordenada:\", sorted_arr)\n"
   ]
  },
  {
   "cell_type": "markdown",
   "id": "74b0dee6",
   "metadata": {},
   "source": [
    "Fontes:\n",
    "https://pt.quora.com/O-que-significa-O-1-e-O-n-em-programa%C3%A7%C3%A3o\n",
    "https://guilherme-rmendes95.medium.com/algoritmos-merge-sort-ef12dadeba2a\n",
    "https://www.geeksforgeeks.org/time-and-space-complexity-analysis-of-merge-sort/\n",
    "https://www-quora-com.translate.goog/What%E2%80%99s-the-simple-explanation-for-O-n-log-n?_x_tr_sl=en&_x_tr_tl=pt&_x_tr_hl=pt&_x_tr_pto=tc\n",
    "https://www.iugu.com/blog/analise-complexidade-algoritmos\n"
   ]
  }
 ],
 "metadata": {
  "kernelspec": {
   "display_name": "Python 3",
   "language": "python",
   "name": "python3"
  },
  "language_info": {
   "codemirror_mode": {
    "name": "ipython",
    "version": 3
   },
   "file_extension": ".py",
   "mimetype": "text/x-python",
   "name": "python",
   "nbconvert_exporter": "python",
   "pygments_lexer": "ipython3",
   "version": "3.13.1"
  }
 },
 "nbformat": 4,
 "nbformat_minor": 5
}
