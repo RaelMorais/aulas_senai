{
 "cells": [
  {
   "cell_type": "markdown",
   "metadata": {},
   "source": [
    "<h1>Orientação a Objetos usando Python</h1>"
   ]
  },
  {
   "cell_type": "markdown",
   "metadata": {},
   "source": [
    "A orientação a objetos (OO) é um paradigma de programação que organiza o software em torno de \"objetos\", que representam entidades do mundo real ou abstrações. Na forma comum de programação, é composto por uma forma estruturada que é composta por três tipos básicos de estruturas, que são: \n",
    "\n",
    "```Sequencia```: Comandos a serem executados, exemplo: "
   ]
  },
  {
   "cell_type": "code",
   "execution_count": 1,
   "metadata": {},
   "outputs": [
    {
     "name": "stdout",
     "output_type": "stream",
     "text": [
      "5\n"
     ]
    }
   ],
   "source": [
    "num = 5 \n",
    "print(num)"
   ]
  },
  {
   "cell_type": "markdown",
   "metadata": {},
   "source": [
    "Neste exemplo, definimos uma váriavel com o valor 5, e logo após exibimos o valor. "
   ]
  },
  {
   "cell_type": "markdown",
   "metadata": {},
   "source": [
    "```Condicionais```: São sequencias que só devem ser executadas se tais condições forem atingidas. Exemplo: "
   ]
  },
  {
   "cell_type": "code",
   "execution_count": 2,
   "metadata": {},
   "outputs": [
    {
     "name": "stdout",
     "output_type": "stream",
     "text": [
      "10\n"
     ]
    }
   ],
   "source": [
    "num = 5\n",
    "\n",
    "if (num >= 5):\n",
    "    soma = num + 5\n",
    "    print(soma)\n",
    "else:\n",
    "    sub = num - 5\n",
    "    print(sub)"
   ]
  },
  {
   "cell_type": "markdown",
   "metadata": {},
   "source": [
    "Neste exemplo básico, definimos ```num`` com um valor, e usamos o bloco ``if e else`` para montar a condição, que é, se num for maior ou igual a 5, somar + 5, se não, subtrair 5"
   ]
  },
  {
   "cell_type": "markdown",
   "metadata": {},
   "source": [
    "Já outra forma, é usando loops (While, For, Do-While), para executar uma sequencia determinadas vezes."
   ]
  },
  {
   "cell_type": "code",
   "execution_count": 3,
   "metadata": {},
   "outputs": [
    {
     "name": "stdout",
     "output_type": "stream",
     "text": [
      "1\n",
      "2\n",
      "3\n",
      "4\n",
      "5\n",
      "6\n",
      "7\n",
      "8\n",
      "9\n",
      "10\n"
     ]
    }
   ],
   "source": [
    "for i in range (1, 11):\n",
    "    print(i)"
   ]
  },
  {
   "cell_type": "markdown",
   "metadata": {},
   "source": [
    "Acima, criamos um laço For, e definimos um Range para ele percorrer, indo da posição 1 no index até a posição 11. (1 até o 10)."
   ]
  },
  {
   "cell_type": "markdown",
   "metadata": {},
   "source": [
    "<h1>Problema da estruturada</h1>"
   ]
  },
  {
   "cell_type": "markdown",
   "metadata": {},
   "source": [
    "A programação estruturada pode ser quebrada em subrotinas, mas o fluxo do programa continua o mesmo, como se pudéssemos copiar e colar o código das subrotinas diretamente nas rotinas que as chamam, de tal forma que, no final, só haja uma grande rotina que execute todo o programa."
   ]
  },
  {
   "cell_type": "markdown",
   "metadata": {},
   "source": [
    "<img src=\"https://www.alura.com.br/artigos/assets/poo-programacao-orientada-a-objetos/fluxograma.png\">"
   ]
  },
  {
   "cell_type": "markdown",
   "metadata": {},
   "source": [
    "Um dos principais problemas da programção estruturada, é sua limitação por falta de escalabilidade, que ficará claro com o exemplo a seguir."
   ]
  },
  {
   "cell_type": "markdown",
   "metadata": {},
   "source": [
    "Imagine um programa que gerencia informações de clientes e produtos em um sistema de vendas. Em um modelo de programação estruturada, você provavelmente teria funções separadas para cadastrar um cliente, cadastrar um produto, calcular o total de uma venda, etc. Porém, essas funções lidariam com dados de forma separada (por exemplo, um vetor de clientes e outro vetor de produtos), sem nenhuma forma natural de relacioná-los.\n",
    "\n",
    "Com o crescimento do sistema, ao adicionar novas funcionalidades (como descontos, novos tipos de produtos, ou modificações no processo de cálculo de vendas), o código ficaria mais complexo e difícil de entender ou modificar, pois você estaria constantemente lidando com dados dispersos e funções que precisam interagir entre si.\n"
   ]
  },
  {
   "cell_type": "markdown",
   "metadata": {},
   "source": [
    "<h1>A solução</h1>"
   ]
  },
  {
   "cell_type": "markdown",
   "metadata": {},
   "source": [
    "Em reusmo a programação estruturada é um paradigma que foca em dividir o código em funções ou procedimentos. Esse estilo de programação tem como objetivo melhorar a clareza e a organização do código. No entanto, com o crescimento das aplicações e a necessidade de lidar com sistemas mais complexos, surgiram novas abordagens que visam fornecer maior modularidade, reutilização e facilidade de manutenção. Já a Programação Orientada a Objetos (POO) é uma dessas abordagens. Ao invés de focar em funções, a POO organiza o código em torno de objetos e classes, que representam entidades do mundo real. Vamos explorar as principais diferenças entre esses paradigmas e como podemos fazer essa transição de forma eficiente."
   ]
  },
  {
   "cell_type": "code",
   "execution_count": 2,
   "metadata": {},
   "outputs": [
    {
     "name": "stdout",
     "output_type": "stream",
     "text": [
      "A multiplicação de 5 x 10 é 50\n"
     ]
    }
   ],
   "source": [
    "def multiplicacao (num, denominador):\n",
    "    return num * denominador\n",
    "denominador = 10\n",
    "num = 5\n",
    "multi = multiplicacao(num, denominador)\n",
    "print(\"A multiplicação de 5 x 10 é\", multi)\n"
   ]
  },
  {
   "cell_type": "markdown",
   "metadata": {},
   "source": [
    "A função ```multiplicacao``` recebe ```dois números```, realiza a multiplicação e retorna o resultado.\n",
    "O código chama a função passando os valores 5 e 10, calcula a multiplicação e imprime o resultado final (50)."
   ]
  }
 ],
 "metadata": {
  "kernelspec": {
   "display_name": "Python 3",
   "language": "python",
   "name": "python3"
  },
  "language_info": {
   "codemirror_mode": {
    "name": "ipython",
    "version": 3
   },
   "file_extension": ".py",
   "mimetype": "text/x-python",
   "name": "python",
   "nbconvert_exporter": "python",
   "pygments_lexer": "ipython3",
   "version": "3.13.1"
  }
 },
 "nbformat": 4,
 "nbformat_minor": 2
}
