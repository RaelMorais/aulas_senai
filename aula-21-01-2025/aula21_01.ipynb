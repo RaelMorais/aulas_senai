{
 "cells": [
  {
   "cell_type": "markdown",
   "metadata": {},
   "source": [
    "<h1>Orientação a Objetos usando Python</h1>"
   ]
  },
  {
   "cell_type": "markdown",
   "metadata": {},
   "source": [
    "A orientação a objetos (OO) é um paradigma de programação que organiza o software em torno de \"objetos\", que representam entidades do mundo real ou abstrações. Na forma comum de programação, é composto por uma forma estruturada que é composta por três tipos básicos de estruturas, que são: \n",
    "\n",
    "```Sequencia```: Comandos a serem executados, exemplo: "
   ]
  },
  {
   "cell_type": "code",
   "execution_count": 1,
   "metadata": {},
   "outputs": [
    {
     "name": "stdout",
     "output_type": "stream",
     "text": [
      "5\n"
     ]
    }
   ],
   "source": [
    "num = 5 \n",
    "print(num)"
   ]
  },
  {
   "cell_type": "markdown",
   "metadata": {},
   "source": [
    "Neste exemplo, definimos uma váriavel com o valor 5, e logo após exibimos o valor. "
   ]
  },
  {
   "cell_type": "markdown",
   "metadata": {},
   "source": [
    "```Condicionais```: São sequencias que só devem ser executadas se tais condições forem atingidas. Exemplo: "
   ]
  },
  {
   "cell_type": "code",
   "execution_count": 2,
   "metadata": {},
   "outputs": [
    {
     "name": "stdout",
     "output_type": "stream",
     "text": [
      "10\n"
     ]
    }
   ],
   "source": [
    "num = 5\n",
    "\n",
    "if (num >= 5):\n",
    "    soma = num + 5\n",
    "    print(soma)\n",
    "else:\n",
    "    sub = num - 5\n",
    "    print(sub)"
   ]
  },
  {
   "cell_type": "markdown",
   "metadata": {},
   "source": [
    "Neste exemplo básico, definimos ```num`` com um valor, e usamos o bloco ``if e else`` para montar a condição, que é, se num for maior ou igual a 5, somar + 5, se não, subtrair 5"
   ]
  },
  {
   "cell_type": "markdown",
   "metadata": {},
   "source": [
    "Já outra forma, é usando loops (While, For, Do-While), para executar uma sequencia determinadas vezes."
   ]
  },
  {
   "cell_type": "code",
   "execution_count": 3,
   "metadata": {},
   "outputs": [
    {
     "name": "stdout",
     "output_type": "stream",
     "text": [
      "1\n",
      "2\n",
      "3\n",
      "4\n",
      "5\n",
      "6\n",
      "7\n",
      "8\n",
      "9\n",
      "10\n"
     ]
    }
   ],
   "source": [
    "for i in range (1, 11):\n",
    "    print(i)"
   ]
  },
  {
   "cell_type": "markdown",
   "metadata": {},
   "source": [
    "Acima, criamos um laço For, e definimos um Range para ele percorrer, indo da posição 1 no index até a posição 11. (1 até o 10)."
   ]
  },
  {
   "cell_type": "markdown",
   "metadata": {},
   "source": [
    "<h1>Problema da estruturada</h1>"
   ]
  },
  {
   "cell_type": "markdown",
   "metadata": {},
   "source": [
    "A programação estruturada pode ser quebrada em subrotinas, mas o fluxo do programa continua o mesmo, como se pudéssemos copiar e colar o código das subrotinas diretamente nas rotinas que as chamam, de tal forma que, no final, só haja uma grande rotina que execute todo o programa."
   ]
  },
  {
   "cell_type": "markdown",
   "metadata": {},
   "source": [
    "<img src=\"https://www.alura.com.br/artigos/assets/poo-programacao-orientada-a-objetos/fluxograma.png\">"
   ]
  },
  {
   "cell_type": "markdown",
   "metadata": {},
   "source": [
    "Um dos principais problemas da programção estruturada, é sua limitação por falta de escalabilidade, que ficará claro com o exemplo a seguir."
   ]
  },
  {
   "cell_type": "markdown",
   "metadata": {},
   "source": [
    "Imagine um programa que gerencia informações de clientes e produtos em um sistema de vendas. Em um modelo de programação estruturada, você provavelmente teria funções separadas para cadastrar um cliente, cadastrar um produto, calcular o total de uma venda, etc. Porém, essas funções lidariam com dados de forma separada (por exemplo, um vetor de clientes e outro vetor de produtos), sem nenhuma forma natural de relacioná-los.\n",
    "\n",
    "Com o crescimento do sistema, ao adicionar novas funcionalidades (como descontos, novos tipos de produtos, ou modificações no processo de cálculo de vendas), o código ficaria mais complexo e difícil de entender ou modificar, pois você estaria constantemente lidando com dados dispersos e funções que precisam interagir entre si.\n"
   ]
  },
  {
   "cell_type": "markdown",
   "metadata": {},
   "source": [
    "<h1>A solução</h1>"
   ]
  },
  {
   "cell_type": "markdown",
   "metadata": {},
   "source": [
    "Em reusmo a programação estruturada é um paradigma que foca em dividir o código em funções ou procedimentos. Esse estilo de programação tem como objetivo melhorar a clareza e a organização do código. \n",
    "\n",
    "No entanto, com o crescimento das aplicações e a necessidade de lidar com sistemas mais complexos, surgiram novas abordagens que visam fornecer maior modularidade, reutilização e facilidade de manutenção. Já a Programação Orientada a Objetos (POO) é uma dessas abordagens. \n",
    "\n",
    "Ao invés de focar em funções, a POO organiza o código em torno de objetos e classes, que representam entidades do mundo real. Vamos explorar as principais diferenças entre esses paradigmas e como podemos fazer essa transição de forma eficiente."
   ]
  },
  {
   "cell_type": "code",
   "execution_count": 2,
   "metadata": {},
   "outputs": [
    {
     "name": "stdout",
     "output_type": "stream",
     "text": [
      "A multiplicação de 5 x 10 é 50\n"
     ]
    }
   ],
   "source": [
    "def multiplicacao (num, denominador):\n",
    "    return num * denominador\n",
    "denominador = 10\n",
    "num = 5\n",
    "multi = multiplicacao(num, denominador)\n",
    "print(\"A multiplicação de 5 x 10 é\", multi)\n"
   ]
  },
  {
   "cell_type": "markdown",
   "metadata": {},
   "source": [
    "<Img src=\"https://arquivo.devmedia.com.br/artigos/henrique_gasparotto/4_pilares_oo/image001.png\">"
   ]
  },
  {
   "cell_type": "markdown",
   "metadata": {},
   "source": [
    "A função ```multiplicacao``` recebe ```dois números```, realiza a multiplicação e retorna o resultado.\n",
    "O código chama a função passando os valores 5 e 10, calcula a multiplicação e imprime o resultado final (50)."
   ]
  },
  {
   "cell_type": "markdown",
   "metadata": {},
   "source": [
    "A Programação Orientada a Objetos ```(POO)``` tem um enfoque diferente. Em vez de se concentrar apenas em funções, ela foca em objetos, que são instâncias de ```classes```. \n",
    "\n",
    "Uma classe define um tipo de dado abstrato, com atributos (dados) e métodos (funções) que operam sobre esses dados. Esses objetos podem interagir uns com os outros, permitindo uma modelagem mais próxima ao mundo real."
   ]
  },
  {
   "cell_type": "markdown",
   "metadata": {},
   "source": [
    "<h1>POO na prática</h1>\n",
    "Para entendermos POO na vida real, vamos passar pelos 4 conceitos base. \n",
    "\n",
    "1. Abstração \n",
    "2. Encapsulamento\n",
    "3. Herança\n",
    "4. Polimorfismo \n",
    "\n",
    "<h2>Abstração</h2>\n",
    "A abstração consiste em um dos pontos mais importantes dentro de qualquer linguagem Orientada a Objetos.A abstração consiste em simplificar a realidade ao focar apenas nas características relevantes de um objeto. É como criar um modelo mental simplificado de algo complexo.\n",
    "\n",
    "Um exemplo pode ser usado como um carro.  Um carro pode ser abstraído como tendo ```atributos``` como cor, marca, modelo e ```métodos``` como acelerar, frear e virar.\n",
    "\n",
    "<img src=\"https://image.slidesharecdn.com/03poo-150513162630-lva1-app6892/85/03-poo-9-320.jpg\">\n",
    "\n"
   ]
  },
  {
   "cell_type": "markdown",
   "metadata": {},
   "source": [
    "<h1>Encapsulamento</h1>\n",
    "O encapsulamento visa ocultar os detalhes internos de um objeto, protegendo seus dados e garantindo que eles sejam modificados apenas através de métodos definidos. Isso aumenta a segurança e a manutenibilidade do código.\n",
    "\n",
    "Usando o exemplo do carro, o comprador (cliente) não precisa saber como é o motor, ou a transmissão, apenas que o motor ligue e ande, e a transmissão faça a troca de marcha. \n",
    "\n",
    "<img src=\"https://blogger.googleusercontent.com/img/b/R29vZ2xl/AVvXsEjhtpQHCb0q7ban-SKWvTUa4WM7dvIK51XneEO8bvGi-v0sBopH22YihWOGAhrFhSVP4OS0VBJtEHzxObeEt4wKf6h8MJzuPWErryfOrDDQb-WLOvEEB83_JKw8_xeVWdf_Tg3R-xHPOAA/s1600/acessibilidade-0.png\">"
   ]
  },
  {
   "cell_type": "markdown",
   "metadata": {},
   "source": [
    "<h1>Herança</h1>\n",
    "A herança permite que uma classe (classe filha) herde os atributos e métodos de outra classe (classe pai). Isso cria uma hierarquia de classes e promove a reutilização de código. \n",
    "\n",
    "Exemplo: Temos a classe carro, possui atributos andar, frear, e virar, e metódos como cor, marca e ano. \n",
    "Podemos reutilizar a classe carro quantas vezes quissesmos, assim herdando os métodos da principal, porém invés de ser apenas de uma marca, a marca pode ser Chevrolet, o modelo pode ser Onix, e a cor pode variar. \n",
    "\n",
    "<img src=\"https://sae.unb.br/cae/conteudo/unbfga/oo/imagens/imageHeranca_3.gif\">"
   ]
  },
  {
   "cell_type": "markdown",
   "metadata": {},
   "source": [
    "<h1>Polimorfismo</h1>\n",
    "\n",
    "O polimorfismo significa que métodos com o mesmo nome podem ter comportamentos diferentes em classes diferentes, dependendo do contexto. Isso permite que um objeto seja tratado de maneiras diferentes, dependendo de sua classe.\n",
    "\n",
    "Exemplo: Os métodos andar, virar, frear, pode variar de marca para marca, para fazer sentido, vamos adicionar o método barulhoMotor, que pode ser difernete entre todas as marcas, ou ter finalidades diferentes. \n",
    "\n",
    "<Img src=\"https://rogerioaraujo.files.wordpress.com/2020/03/poo2_questao.png\">"
   ]
  },
  {
   "cell_type": "markdown",
   "metadata": {},
   "source": [
    "Em resumo:\n",
    "\n",
    "    1. Abstração: Simplificar a realidade.\n",
    "\n",
    "    2. Encapsulamento: Ocultar detalhes internos.\n",
    "\n",
    "    3. Herança: Criar hierarquias de classes.\n",
    "    \n",
    "    4. Polimorfismo: Métodos com comportamentos diferentes."
   ]
  },
  {
   "cell_type": "markdown",
   "metadata": {},
   "source": [
    "Agora um exemplo em código"
   ]
  },
  {
   "cell_type": "code",
   "execution_count": 8,
   "metadata": {},
   "outputs": [
    {
     "name": "stdout",
     "output_type": "stream",
     "text": [
      "O Chevrolet Onix está ligado.\n",
      "O Chevrolet Onix está a 10 km/h.\n",
      "O Chevrolet Onix está a 0 km/h.\n",
      "O Chevrolet Onix está desligado.\n",
      "O Chevrolet Prisma está ligado.\n",
      "O Chevrolet Prisma está a 10 km/h.\n",
      "O Chevrolet Prisma está a 0 km/h.\n",
      "O Chevrolet Prisma está desligado.\n",
      "O Ford Fusion está ligado.\n",
      "O Ford Fusion está a 10 km/h.\n",
      "O Ford Fusion está a 0 km/h.\n",
      "O Ford Fusion está desligado.\n"
     ]
    }
   ],
   "source": [
    "class Carro:\n",
    "    def __init__(self, marca, modelo, ano):\n",
    "        self.marca = marca\n",
    "        self.modelo = modelo\n",
    "        self.ano = ano\n",
    "        self.ligado = False\n",
    "        self.velocidade = 0\n",
    "\n",
    "    def ligar(self):\n",
    "        self.ligado = True\n",
    "        print(f\"O {self.marca} {self.modelo} está ligado.\")\n",
    "\n",
    "    def desligar(self):\n",
    "        self.ligado = False\n",
    "        print(f\"O {self.marca} {self.modelo} está desligado.\")\n",
    "\n",
    "    def acelerar(self):\n",
    "        if self.ligado:\n",
    "            self.velocidade += 10\n",
    "            print(f\"O {self.marca} {self.modelo} está a {self.velocidade} km/h.\")\n",
    "        else:\n",
    "            print(f\"O {self.marca} {self.modelo} precisa estar ligado para acelerar.\")\n",
    "\n",
    "    def frear(self):\n",
    "        if self.velocidade > 0:\n",
    "            self.velocidade -= 10\n",
    "            print(f\"O {self.marca} {self.modelo} está a {self.velocidade} km/h.\")\n",
    "        else:\n",
    "            print(f\"O {self.marca} {self.modelo} já está parado.\")\n",
    "\n",
    "carro1 = Carro(\"Chevrolet\", \"Onix\", 2022)\n",
    "carro2 = Carro(\"Chevrolet\", \"Prisma\", 2014)\n",
    "carro3 = Carro(\"Ford\", \"Fusion\", 2019)\n",
    "\n",
    "carro1.ligar()\n",
    "carro1.acelerar()\n",
    "carro1.frear()\n",
    "carro1.desligar()\n",
    "\n",
    "carro2.ligar()\n",
    "carro2.acelerar()\n",
    "carro2.frear()\n",
    "carro2.desligar()\n",
    "\n",
    "carro3.ligar()\n",
    "carro3.acelerar()\n",
    "carro3.frear()\n",
    "carro3.desligar()\n"
   ]
  },
  {
   "cell_type": "markdown",
   "metadata": {},
   "source": [
    "O código acima, foi feito usando objetos, métodos e atributos, de forma onde não precisamos criar toda vez que lançar um carro novo, um novo código, apenas criamos um novo objeto. \n",
    "\n",
    "Exemplo: Temos o Onix 2019, e lançou o 2020, onde muda tudo, invés de criar um do zero, eu apenas instacio a classe NovoOnix, e defino os novos atributos e métodos. "
   ]
  },
  {
   "cell_type": "markdown",
   "metadata": {},
   "source": [
    ">>>Fontes: \n",
    "\n",
    "1. https://www.devmedia.com.br/os-4-pilares-da-programacao-orientada-a-objetos/9264\n",
    "2. https://www.devmedia.com.br/conceitos-e-exemplos-polimorfismo-programacao-orientada-a-objetos/18701\n",
    "3. https://www.alura.com.br/artigos/poo-programacao-orientada-a-objetos?srsltid=AfmBOorpcsyyWz37LSdhIq1IjmGNFb6EChsbZ6SzOInHuwJopyQ70WWF\n",
    "4. https://www.dio.me/articles/introducao-a-programacao-orientada-a-objetos-poo\n",
    "5. https://lyncas.net/blog/poo-programacao-orientada-a-objetos/\n",
    "6. https://community.revelo.com.br/programacao-orientada-a-objetos-poo/"
   ]
  }
 ],
 "metadata": {
  "kernelspec": {
   "display_name": "Python 3",
   "language": "python",
   "name": "python3"
  },
  "language_info": {
   "codemirror_mode": {
    "name": "ipython",
    "version": 3
   },
   "file_extension": ".py",
   "mimetype": "text/x-python",
   "name": "python",
   "nbconvert_exporter": "python",
   "pygments_lexer": "ipython3",
   "version": "3.13.1"
  }
 },
 "nbformat": 4,
 "nbformat_minor": 2
}
